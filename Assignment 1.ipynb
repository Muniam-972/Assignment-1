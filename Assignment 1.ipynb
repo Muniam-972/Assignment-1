{
 "cells": [
  {
   "cell_type": "code",
   "execution_count": 2,
   "id": "6250a313-71e9-4ab5-a27e-b0d99627a188",
   "metadata": {},
   "outputs": [],
   "source": [
    "salaries = ['20k', '40k', '50k', '60k', '35k', '89k','40k']"
   ]
  },
  {
   "cell_type": "code",
   "execution_count": 10,
   "id": "06298113-3300-4d44-bcc9-3d094d548ce7",
   "metadata": {},
   "outputs": [
    {
     "data": {
      "text/plain": [
       "7"
      ]
     },
     "execution_count": 10,
     "metadata": {},
     "output_type": "execute_result"
    }
   ],
   "source": [
    "len(salaries) # To Check the length of the variable"
   ]
  },
  {
   "cell_type": "code",
   "execution_count": 6,
   "id": "3b1000d6-3c32-4f77-a6c8-0e65483b83a4",
   "metadata": {},
   "outputs": [
    {
     "data": {
      "text/plain": [
       "'50k'"
      ]
     },
     "execution_count": 6,
     "metadata": {},
     "output_type": "execute_result"
    }
   ],
   "source": [
    "salaries[2] # To retrieve the third salary in the variable"
   ]
  },
  {
   "cell_type": "code",
   "execution_count": 7,
   "id": "a7cce85c-7e46-42f4-8900-b4b3731c1834",
   "metadata": {},
   "outputs": [
    {
     "data": {
      "text/plain": [
       "['20k', '40k', '50k', '60k', '35k', '89k', '40k']"
      ]
     },
     "execution_count": 7,
     "metadata": {},
     "output_type": "execute_result"
    }
   ],
   "source": [
    "salaries\n"
   ]
  },
  {
   "cell_type": "code",
   "execution_count": 8,
   "id": "89ce1c17-ae07-4bc3-bbb7-4f6314240907",
   "metadata": {},
   "outputs": [
    {
     "data": {
      "text/plain": [
       "'40k'"
      ]
     },
     "execution_count": 8,
     "metadata": {},
     "output_type": "execute_result"
    }
   ],
   "source": [
    "salaries[-1] # To extract the last salary from list"
   ]
  },
  {
   "cell_type": "code",
   "execution_count": 11,
   "id": "fe6bc689-26fa-4c6b-a68e-a6dee09566fe",
   "metadata": {},
   "outputs": [
    {
     "data": {
      "text/plain": [
       "['50k', '60k', '35k']"
      ]
     },
     "execution_count": 11,
     "metadata": {},
     "output_type": "execute_result"
    }
   ],
   "source": [
    "salaries[2:5]  #Extracting 3 middle terms"
   ]
  },
  {
   "cell_type": "code",
   "execution_count": 13,
   "id": "73cfaf6e-f64f-40ee-bb7a-582bbba5b7a6",
   "metadata": {},
   "outputs": [],
   "source": [
    "salaries.append('100k') # Adding new salary using the append method "
   ]
  },
  {
   "cell_type": "code",
   "execution_count": 14,
   "id": "6ce4c887-d5a0-4e59-bd8b-a91f95ede959",
   "metadata": {},
   "outputs": [
    {
     "data": {
      "text/plain": [
       "['20k', '40k', '50k', '60k', '35k', '89k', '40k', '100k']"
      ]
     },
     "execution_count": 14,
     "metadata": {},
     "output_type": "execute_result"
    }
   ],
   "source": [
    "salaries"
   ]
  },
  {
   "cell_type": "code",
   "execution_count": 17,
   "id": "6566958f-b878-49cc-a4b9-34fd5f873a24",
   "metadata": {},
   "outputs": [],
   "source": [
    "salaries = [salaries,'120k'] # Adding new salary without append method "
   ]
  },
  {
   "cell_type": "code",
   "execution_count": 18,
   "id": "79a94792-1265-4386-a494-681368a87386",
   "metadata": {},
   "outputs": [
    {
     "data": {
      "text/plain": [
       "[['20k', '40k', '50k', '60k', '35k', '89k', '40k', '100k'], '120k']"
      ]
     },
     "execution_count": 18,
     "metadata": {},
     "output_type": "execute_result"
    }
   ],
   "source": [
    "salaries"
   ]
  },
  {
   "cell_type": "code",
   "execution_count": 22,
   "id": "fd4a05c4-3811-4171-af4d-ce53210fe3d0",
   "metadata": {},
   "outputs": [
    {
     "data": {
      "text/plain": [
       "[['20k', '40k', '50k', '60k', '35k', '89k', '40k', '100k'], '120k']"
      ]
     },
     "execution_count": 22,
     "metadata": {},
     "output_type": "execute_result"
    }
   ],
   "source": [
    "salaries"
   ]
  },
  {
   "cell_type": "code",
   "execution_count": 26,
   "id": "f267d6e5-30b6-4493-ac4e-f036328c9956",
   "metadata": {},
   "outputs": [],
   "source": [
    "salaries = ['20k', '40k', '50k', '60k', '35k', '89k','40k']"
   ]
  },
  {
   "cell_type": "code",
   "execution_count": 27,
   "id": "d1c33f87-9184-4d40-875f-a013606d0d3f",
   "metadata": {},
   "outputs": [
    {
     "data": {
      "text/plain": [
       "['20k', '40k', '50k', '60k', '35k', '89k', '40k']"
      ]
     },
     "execution_count": 27,
     "metadata": {},
     "output_type": "execute_result"
    }
   ],
   "source": [
    "salaries"
   ]
  },
  {
   "cell_type": "code",
   "execution_count": 30,
   "id": "27451893-bf7b-43b8-a3ac-46c9a3043e70",
   "metadata": {},
   "outputs": [],
   "source": [
    "salaries[2] = '55k' # Replacing the third salary with 55k"
   ]
  },
  {
   "cell_type": "code",
   "execution_count": 31,
   "id": "613492a9-1fe5-4b68-b35b-8bc5deef6fef",
   "metadata": {},
   "outputs": [
    {
     "name": "stdout",
     "output_type": "stream",
     "text": [
      "['20k', '40k', '55k', '60k', '35k', '89k', '40k']\n"
     ]
    }
   ],
   "source": [
    "print(salaries)"
   ]
  },
  {
   "cell_type": "code",
   "execution_count": 33,
   "id": "da3cc3a7-bd4d-4592-8774-1894f4d2317d",
   "metadata": {},
   "outputs": [
    {
     "data": {
      "text/plain": [
       "2"
      ]
     },
     "execution_count": 33,
     "metadata": {},
     "output_type": "execute_result"
    }
   ],
   "source": [
    "salaries.count('40k') # Count how many times 40k appears"
   ]
  },
  {
   "cell_type": "code",
   "execution_count": 36,
   "id": "855c4361-9391-44f5-a72d-1c46879bf3f2",
   "metadata": {},
   "outputs": [],
   "source": [
    "salaries.insert(1,'100k') # Adding the salary at the second position\n"
   ]
  },
  {
   "cell_type": "code",
   "execution_count": 35,
   "id": "6e126f40-e287-4181-834c-6e2d403ea8c1",
   "metadata": {},
   "outputs": [
    {
     "name": "stdout",
     "output_type": "stream",
     "text": [
      "['20k', '100k', '40k', '55k', '60k', '35k', '89k', '40k']\n"
     ]
    }
   ],
   "source": [
    "print(salaries)"
   ]
  },
  {
   "cell_type": "code",
   "execution_count": 37,
   "id": "f1c26bcb-ef3b-4573-877e-e64eb110507a",
   "metadata": {},
   "outputs": [],
   "source": [
    "salaries.reverse() # Reversing the order of the list "
   ]
  },
  {
   "cell_type": "code",
   "execution_count": 38,
   "id": "06375223-04f5-46e4-a95f-12de9c13c208",
   "metadata": {},
   "outputs": [
    {
     "name": "stdout",
     "output_type": "stream",
     "text": [
      "['40k', '89k', '35k', '60k', '55k', '40k', '100k', '100k', '20k']\n"
     ]
    }
   ],
   "source": [
    "print(salaries)"
   ]
  },
  {
   "cell_type": "code",
   "execution_count": 39,
   "id": "19756e61-467c-4201-b115-24d0a246d1e9",
   "metadata": {},
   "outputs": [],
   "source": [
    "salaries = ['20k', '40k', '50k', '60k', '35k', '89k','40k']"
   ]
  },
  {
   "cell_type": "code",
   "execution_count": 40,
   "id": "98842237-22b4-46d1-8082-c092ec1a1eae",
   "metadata": {},
   "outputs": [
    {
     "data": {
      "text/plain": [
       "['20k', '40k', '50k', '60k', '35k', '89k', '40k']"
      ]
     },
     "execution_count": 40,
     "metadata": {},
     "output_type": "execute_result"
    }
   ],
   "source": [
    "salaries"
   ]
  },
  {
   "cell_type": "code",
   "execution_count": 41,
   "id": "307885d9-ea76-40af-9218-b0e259349d2c",
   "metadata": {},
   "outputs": [],
   "source": [
    "reversed_salaries = salaries[::-1]"
   ]
  },
  {
   "cell_type": "code",
   "execution_count": 42,
   "id": "ff59e1c8-1e42-44c7-85c6-0845fc2ba483",
   "metadata": {},
   "outputs": [
    {
     "data": {
      "text/plain": [
       "['40k', '89k', '35k', '60k', '50k', '40k', '20k']"
      ]
     },
     "execution_count": 42,
     "metadata": {},
     "output_type": "execute_result"
    }
   ],
   "source": [
    "reversed_salaries"
   ]
  },
  {
   "cell_type": "code",
   "execution_count": null,
   "id": "cd4ae69a-6a04-458f-b573-0ab545649d02",
   "metadata": {},
   "outputs": [],
   "source": []
  }
 ],
 "metadata": {
  "kernelspec": {
   "display_name": "Python 3 (ipykernel)",
   "language": "python",
   "name": "python3"
  },
  "language_info": {
   "codemirror_mode": {
    "name": "ipython",
    "version": 3
   },
   "file_extension": ".py",
   "mimetype": "text/x-python",
   "name": "python",
   "nbconvert_exporter": "python",
   "pygments_lexer": "ipython3",
   "version": "3.12.7"
  }
 },
 "nbformat": 4,
 "nbformat_minor": 5
}
